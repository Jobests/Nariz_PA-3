{
 "cells": [
  {
   "cell_type": "markdown",
   "id": "972cdba1-7246-435a-af10-14cbf01c4d0a",
   "metadata": {},
   "source": [
    "# PA_1"
   ]
  },
  {
   "cell_type": "code",
   "execution_count": 11,
   "id": "0df99faa-0cc0-4755-8b16-2947a5613069",
   "metadata": {},
   "outputs": [
    {
     "name": "stdout",
     "output_type": "stream",
     "text": [
      "The first 5 rows are: \n",
      "               Model   mpg  cyl   disp   hp  drat     wt   qsec  vs  am  gear  \\\n",
      "0          Mazda RX4  21.0    6  160.0  110  3.90  2.620  16.46   0   1     4   \n",
      "1      Mazda RX4 Wag  21.0    6  160.0  110  3.90  2.875  17.02   0   1     4   \n",
      "2         Datsun 710  22.8    4  108.0   93  3.85  2.320  18.61   1   1     4   \n",
      "3     Hornet 4 Drive  21.4    6  258.0  110  3.08  3.215  19.44   1   0     3   \n",
      "4  Hornet Sportabout  18.7    8  360.0  175  3.15  3.440  17.02   0   0     3   \n",
      "\n",
      "   carb  \n",
      "0     4  \n",
      "1     4  \n",
      "2     1  \n",
      "3     1  \n",
      "4     2  \n",
      "The last 5 rows are: \n",
      "             Model   mpg  cyl   disp   hp  drat     wt  qsec  vs  am  gear  \\\n",
      "27    Lotus Europa  30.4    4   95.1  113  3.77  1.513  16.9   1   1     5   \n",
      "28  Ford Pantera L  15.8    8  351.0  264  4.22  3.170  14.5   0   1     5   \n",
      "29    Ferrari Dino  19.7    6  145.0  175  3.62  2.770  15.5   0   1     5   \n",
      "30   Maserati Bora  15.0    8  301.0  335  3.54  3.570  14.6   0   1     5   \n",
      "31      Volvo 142E  21.4    4  121.0  109  4.11  2.780  18.6   1   1     4   \n",
      "\n",
      "    carb  \n",
      "27     2  \n",
      "28     4  \n",
      "29     6  \n",
      "30     8  \n",
      "31     2  \n"
     ]
    }
   ],
   "source": [
    "import pandas as pd #Import Pands module\n",
    "\n",
    "cars = pd.read_csv('cars.csv') #load in the downloaded csv file\n",
    "print(f'The first 5 rows are: ') \n",
    "a = cars.head()\n",
    "print(a) #print out the first 5 rows\n",
    "\n",
    "print(f'The last 5 rows are: ') \n",
    "b = cars.tail()\n",
    "print(b) #print out the last 5 rows\n",
    "\n",
    "c = pd.concat([a, b])\n",
    "c.to_csv('Nariz_Pandas-P1.py') #Save the output all together"
   ]
  },
  {
   "cell_type": "markdown",
   "id": "c77be33e-fdfa-4c99-960d-7a02ca74a7ea",
   "metadata": {},
   "source": [
    "# PA_2"
   ]
  },
  {
   "cell_type": "code",
   "execution_count": 17,
   "id": "8ac650a2-3529-40be-a9a0-a5a91e2ca63f",
   "metadata": {},
   "outputs": [
    {
     "name": "stdout",
     "output_type": "stream",
     "text": [
      "               Model  cyl   hp     wt  vs  gear\n",
      "0          Mazda RX4    6  110  2.620   0     4\n",
      "1      Mazda RX4 Wag    6  110  2.875   0     4\n",
      "2         Datsun 710    4   93  2.320   1     4\n",
      "3     Hornet 4 Drive    6  110  3.215   1     3\n",
      "4  Hornet Sportabout    8  175  3.440   0     3\n",
      "\n",
      "       Model   mpg  cyl   disp   hp  drat    wt   qsec  vs  am  gear  carb\n",
      "0  Mazda RX4  21.0    6  160.0  110   3.9  2.62  16.46   0   1     4     4\n",
      "\n",
      "    cyl\n",
      "23    8\n",
      "\n",
      "Model: Mazda RX4 Wag\n",
      "   cyl  gear\n",
      "1    6     4\n",
      "\n",
      "Model: Ford Pantera L\n",
      "    cyl  gear\n",
      "28    8     5\n",
      "\n",
      "Model: Honda Civic\n",
      "    cyl  gear\n",
      "18    4     4\n",
      "\n"
     ]
    }
   ],
   "source": [
    "import pandas as pd #Import Module Pandas\n",
    "\n",
    "cars = pd.read_csv('cars.csv') #import the file\n",
    "\n",
    "a = cars.iloc[:5,::2] #a.) print out the first 5 rows with odd numbered columns\n",
    "print(a)\n",
    "print() #spaces for readability\n",
    "a.to_csv('Nariz_Pandas-P2.py') #save the ouput to a csv\n",
    "\n",
    "b = cars.loc[cars['Model'] == 'Mazda RX4'] #b.) print out the row that satisfies the condition Model == Mazda RX4\n",
    "print(b)\n",
    "print() #spaces for readability\n",
    "b.to_csv('Nariz_Pandas-P2.py') #save the ouput to a csv\n",
    "\n",
    "c = cars.loc[cars['Model'] == 'Camaro Z28', ['cyl']] #c.) print out the value of the Camaro Z28's cyl\n",
    "print(c)\n",
    "print() #spaces for readability\n",
    "c.to_csv('Nariz_Pandas-P2.py') #save the ouput to a csv\n",
    "\n",
    "#for d.) \n",
    "models = ['Mazda RX4 Wag','Ford Pantera L','Honda Civic'] #create a list for models\n",
    "columns = ['cyl','gear'] #create a list for columns\n",
    "\n",
    "#use for loop to iterate each element within the models\n",
    "for model in models:\n",
    "    print(f'Model: {model}') #print the models inside of list models\n",
    "    d = (cars.loc[cars['Model'] == model, columns]) #print out the corresponding values that satisfies the condition\n",
    "    print(d)\n",
    "    print() #spaces for readability\n",
    "    d.to_csv('Nariz_Pandas-P2.py') #save the ouput to a csv"
   ]
  },
  {
   "cell_type": "code",
   "execution_count": null,
   "id": "e49e3d15-509d-41e3-a657-83d94d100025",
   "metadata": {},
   "outputs": [],
   "source": []
  }
 ],
 "metadata": {
  "kernelspec": {
   "display_name": "Python 3 (ipykernel)",
   "language": "python",
   "name": "python3"
  },
  "language_info": {
   "codemirror_mode": {
    "name": "ipython",
    "version": 3
   },
   "file_extension": ".py",
   "mimetype": "text/x-python",
   "name": "python",
   "nbconvert_exporter": "python",
   "pygments_lexer": "ipython3",
   "version": "3.12.4"
  }
 },
 "nbformat": 4,
 "nbformat_minor": 5
}
